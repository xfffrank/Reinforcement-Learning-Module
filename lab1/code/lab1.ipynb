{
 "cells": [
  {
   "cell_type": "markdown",
   "metadata": {},
   "source": [
    "## one"
   ]
  },
  {
   "cell_type": "code",
   "execution_count": 74,
   "metadata": {},
   "outputs": [],
   "source": [
    "import time\n",
    "\n",
    "# past_fib = {}\n",
    "def fibonacci_dp(n, past_fib):\n",
    "    if n in past_fib:\n",
    "        return past_fib[n]\n",
    "    if n == 0 or n == 1:\n",
    "        past_fib[n] = 1\n",
    "        return 1\n",
    "    total = fibonacci_dp(n-1, past_fib) + fibonacci_dp(n-2, past_fib)\n",
    "    past_fib[n] = total\n",
    "    return total\n",
    "\n",
    "def fibonacci(n):\n",
    "    if n == 0 or n == 1:\n",
    "        return 1\n",
    "    return fibonacci(n-1) + fibonacci(n-2)\n",
    "\n",
    "def compare(num_range):\n",
    "    fib_normal = []\n",
    "    fib_dp = []\n",
    "    for n in range(1, num_range + 1):\n",
    "        start = time.process_time()\n",
    "        fibonacci(n)\n",
    "        fib_normal.append(time.process_time() - start)\n",
    "        start = time.process_time()\n",
    "        past_fib = {}  # reset the dict\n",
    "        fibonacci_dp(n, past_fib)\n",
    "        fib_dp.append(time.process_time() - start)\n",
    "    return list(range(1, num_range + 1)), fib_normal, fib_dp\n",
    "    \n",
    "X, fib_normal, fib_dp = compare(30)\n",
    "# print(fibonacci(1))\n",
    "# print(fibonacci(30))\n",
    "# print(fibonacci(0))\n",
    "# %timeit (fibonacci(30))"
   ]
  },
  {
   "cell_type": "code",
   "execution_count": 75,
   "metadata": {},
   "outputs": [
    {
     "data": {
      "text/plain": [
       "Text(0.5, 0, 'number')"
      ]
     },
     "execution_count": 75,
     "metadata": {},
     "output_type": "execute_result"
    },
    {
     "data": {
      "image/png": "[encoded data removed]",
      "text/plain": [
       "<Figure size 432x288 with 2 Axes>"
      ]
     },
     "metadata": {
      "needs_background": "light"
     },
     "output_type": "display_data"
    }
   ],
   "source": [
    "import matplotlib.pyplot as plt\n",
    "\n",
    "ax1 = plt.subplot(211)\n",
    "plt.title('The comparison of execution time')\n",
    "plt.plot(X, fib_normal)\n",
    "ax2 = plt.subplot(212, sharex=ax1)\n",
    "plt.plot(X, fib_dp)\n",
    "plt.xlabel('number')\n"
   ]
  },
  {
   "cell_type": "markdown",
   "metadata": {},
   "source": [
    "## two"
   ]
  },
  {
   "cell_type": "code",
   "execution_count": 16,
   "metadata": {},
   "outputs": [],
   "source": [
    "import sys\n",
    "\n",
    "graph = {0: {1:2, 4:4},\n",
    "         1: {2:3},\n",
    "         2: {3:5, 4:1},\n",
    "         3: {0:8},\n",
    "         4: {3:3}}\n",
    "\n",
    "def allPairsShortestPath(g):\n",
    "    dist = {}\n",
    "    pred = {}\n",
    "    for u in g:\n",
    "        dist[u] = {}\n",
    "        pred[u] = {}\n",
    "        for v in g:\n",
    "            dist[u][v] = sys.maxsize\n",
    "            pred[u][v] = None\n",
    "        dist[u][u] = 0\n",
    "        pred[u][u] = None\n",
    "        for v in g[u]:\n",
    "            dist[u][v] = g[u][v]\n",
    "            pred[u][v] = u\n",
    "    for mid in g:\n",
    "        for u in g:\n",
    "            for v in g:\n",
    "                newlen = dist[u][mid] + dist[mid][v]\n",
    "                if newlen < dist[u][v]:\n",
    "                    dist[u][v] = newlen\n",
    "                    pred[u][v] = pred[mid][v]\n",
    "    return dist, pred\n",
    "\n",
    "def constructShortestPath(s, t, pred):\n",
    "    path = [t]\n",
    "    while t != s:\n",
    "        t = pred[s][t]\n",
    "        if t is None:\n",
    "            return None\n",
    "        path.insert(0,t)\n",
    "    return path\n",
    "\n",
    "dist, pred = allPairsShortestPath(graph)"
   ]
  },
  {
   "cell_type": "code",
   "execution_count": 17,
   "metadata": {},
   "outputs": [
    {
     "data": {
      "text/plain": [
       "{0: {0: 0, 1: 2, 2: 5, 3: 7, 4: 4},\n",
       " 1: {0: 15, 1: 0, 2: 3, 3: 7, 4: 4},\n",
       " 2: {0: 12, 1: 14, 2: 0, 3: 4, 4: 1},\n",
       " 3: {0: 8, 1: 10, 2: 13, 3: 0, 4: 12},\n",
       " 4: {0: 11, 1: 13, 2: 16, 3: 3, 4: 0}}"
      ]
     },
     "execution_count": 17,
     "metadata": {},
     "output_type": "execute_result"
    }
   ],
   "source": [
    "dist"
   ]
  },
  {
   "cell_type": "code",
   "execution_count": 14,
   "metadata": {},
   "outputs": [
    {
     "data": {
      "text/plain": [
       "[1, 2, 4, 3, 0]"
      ]
     },
     "execution_count": 14,
     "metadata": {},
     "output_type": "execute_result"
    }
   ],
   "source": [
    "constructShortestPath(1,0,pred)"
   ]
  },
  {
   "cell_type": "markdown",
   "metadata": {},
   "source": [
    "* Construct a network of 100 nodes with a connection density of 30%, the probability of connections being uniform and the cost of any link is constant set at 1.0"
   ]
  },
  {
   "cell_type": "code",
   "execution_count": 46,
   "metadata": {},
   "outputs": [
    {
     "name": "stdout",
     "output_type": "stream",
     "text": [
      "3960\n"
     ]
    }
   ],
   "source": [
    "import networkx as nx\n",
    "\n",
    "nodes = 100\n",
    "density = 0.4\n",
    "edges = int(((nodes * (nodes - 1))) * density)\n",
    "g = nx.gnm_random_graph(nodes, edges, seed=0, directed=True)\n",
    "print(edges)"
   ]
  },
  {
   "cell_type": "code",
   "execution_count": 47,
   "metadata": {},
   "outputs": [],
   "source": [
    "g_dict = nx.to_dict_of_dicts(g)\n",
    "\n",
    "for i in g_dict.values():\n",
    "    for neighbor in i.keys():\n",
    "        i[neighbor] = 1\n",
    "        \n",
    "distances = allPairsShortestPath(g_dict)[0]"
   ]
  },
  {
   "cell_type": "code",
   "execution_count": 48,
   "metadata": {},
   "outputs": [
    {
     "name": "stdout",
     "output_type": "stream",
     "text": [
      "100\n",
      "{78: 1, 76: 1, 4: 1, 86: 1, 26: 1, 27: 1, 46: 1, 37: 1, 64: 1, 18: 1, 8: 1, 87: 1, 74: 1, 30: 1, 70: 1, 10: 1, 6: 1, 94: 1, 53: 1, 13: 1, 3: 1, 38: 1, 84: 1, 57: 1, 77: 1, 39: 1, 5: 1, 82: 1, 90: 1, 25: 1, 99: 1, 60: 1, 83: 1}\n"
     ]
    }
   ],
   "source": [
    "print(len(g_dict))\n",
    "print(g_dict[0])"
   ]
  },
  {
   "cell_type": "code",
   "execution_count": 49,
   "metadata": {},
   "outputs": [
    {
     "name": "stdout",
     "output_type": "stream",
     "text": [
      "10000\n"
     ]
    }
   ],
   "source": [
    "d_set = []\n",
    "for i in distances.values():\n",
    "    for k, v in i.items():\n",
    "        d_set.append(v)\n",
    "print(len(d_set))"
   ]
  },
  {
   "cell_type": "code",
   "execution_count": 50,
   "metadata": {},
   "outputs": [
    {
     "data": {
      "image/png": "[encoded data removed]",
      "text/plain": [
       "<Figure size 432x288 with 1 Axes>"
      ]
     },
     "metadata": {
      "needs_background": "light"
     },
     "output_type": "display_data"
    }
   ],
   "source": [
    "import matplotlib.pyplot as plt\n",
    "\n",
    "plt.hist(d_set)\n",
    "plt.show()"
   ]
  },
  {
   "cell_type": "markdown",
   "metadata": {},
   "source": [
    "### 3"
   ]
  },
  {
   "cell_type": "code",
   "execution_count": 1,
   "metadata": {
    "scrolled": true
   },
   "outputs": [
    {
     "name": "stdout",
     "output_type": "stream",
     "text": [
      "Episode: 0, Total reward: 1398.2269593629644\n",
      "Episode: 50, Total reward: 111.04775300886155\n",
      "Episode: 100, Total reward: 266.79627759513187\n",
      "Episode: 150, Total reward: 245.71158893139\n",
      "Episode: 200, Total reward: 177.14937969120442\n",
      "Episode: 250, Total reward: 177.84899640725658\n",
      "Episode: 300, Total reward: 109.84362797160367\n",
      "Episode: 350, Total reward: 95.8866154332364\n",
      "Episode: 400, Total reward: 140.0906742828685\n",
      "Episode: 450, Total reward: 166.1751823858563\n",
      "Episode: 500, Total reward: 315.8359837273943\n",
      "Episode: 550, Total reward: 390.8405784142965\n",
      "Episode: 600, Total reward: 145.8358466424494\n",
      "Episode: 650, Total reward: 115.19091361530819\n",
      "Episode: 700, Total reward: 311.02924263074004\n",
      "Episode: 750, Total reward: 103.01968367664355\n",
      "Episode: 800, Total reward: 117.33169251996122\n",
      "Episode: 850, Total reward: 104.23998390083999\n",
      "Episode: 900, Total reward: 112.21901892830178\n",
      "Episode: 950, Total reward: 93.10506483386298\n"
     ]
    }
   ],
   "source": [
    "import gym\n",
    "import numpy as np\n",
    "\n",
    "env_name = \"MountainCar-v0\"\n",
    "env = gym.make(env_name)\n",
    "\n",
    "obs = env.reset()\n",
    "# env.render()\n",
    "\n",
    "n_states = 40\n",
    "episodes = 1000\n",
    "initial_lr = 1.0\n",
    "min_lr = 0.005\n",
    "gamma = 0.99\n",
    "max_steps = 5000\n",
    "# epsilon = 0.05\n",
    "epsilon = 0.05  # prevent the agent from going left forever\n",
    "\n",
    "env = env.unwrapped\n",
    "env.seed()\n",
    "np.random.seed(0)\n",
    "\n",
    "def discretization(env, obs):\n",
    "    env_low = env.observation_space.low\n",
    "    env_high = env.observation_space.high\n",
    "    env_den = (env_high - env_low) / n_states\n",
    "    pos_den = env_den[0]\n",
    "    vel_den = env_den[1]\n",
    "    pos_high = env_high[0]\n",
    "    pos_low = env_low[0]\n",
    "    vel_high = env_high[1]\n",
    "    vel_low = env_low[1]\n",
    "    pos_scaled = int((obs[0] - pos_low) / pos_den)\n",
    "    vel_scaled = int((obs[1] - vel_low) / vel_den)\n",
    "    return pos_scaled, vel_scaled\n",
    "\n",
    "q_table = np.zeros((n_states, n_states, env.action_space.n))\n",
    "total_steps = 0\n",
    "\n",
    "for episode in range(episodes):\n",
    "#     print(\"Episode:\", episode)\n",
    "    obs = env.reset()\n",
    "    total_reward = 0\n",
    "    action_hist = []  # added\n",
    "    alpha = max(min_lr, initial_lr*(gamma**(episode//100)))\n",
    "    steps = 0\n",
    "    for i in range(max_steps):\n",
    "        # env.render()\n",
    "        pos, vel = discretization(env, obs)\n",
    "        if np.random.uniform(low=0, high=1) < epsilon:\n",
    "            # exploration\n",
    "            a = np.random.choice(env.action_space.n)\n",
    "        else:\n",
    "            # exploitation\n",
    "            a = np.argmax(q_table[pos][vel])\n",
    "        obs, reward, terminate, _ = env.step(a)\n",
    "        total_reward += abs(obs[0]+0.5)\n",
    "        pos_, vel_ = discretization(env, obs)\n",
    "        q_table[pos][vel][a] = (1 - alpha) * q_table[pos][vel][a] + alpha * (reward + gamma * np.max(q_table[pos_][vel_]))\n",
    "        steps += 1\n",
    "        if terminate:\n",
    "#             print('terminate')\n",
    "            break\n",
    "    if episode % 50 == 0:\n",
    "        print('Episode: %s, Total reward: %s' % (episode, total_reward))"
   ]
  },
  {
   "cell_type": "code",
   "execution_count": 2,
   "metadata": {},
   "outputs": [],
   "source": [
    "solution_policy = np.argmax(q_table, axis=2)\n",
    "\n",
    "obs = env.reset()\n",
    "while True:\n",
    "    env.render()\n",
    "    pos, vel = discretization(env, obs)\n",
    "    a = solution_policy[pos][vel]\n",
    "    obs, reward, terminate,_ = env.step(a)\n",
    "    if terminate:\n",
    "        break"
   ]
  },
  {
   "cell_type": "code",
   "execution_count": null,
   "metadata": {},
   "outputs": [],
   "source": []
  }
 ],
 "metadata": {
  "kernelspec": {
   "display_name": "Python 3",
   "language": "python",
   "name": "python3"
  },
  "language_info": {
   "codemirror_mode": {
    "name": "ipython",
    "version": 3
   },
   "file_extension": ".py",
   "mimetype": "text/x-python",
   "name": "python",
   "nbconvert_exporter": "python",
   "pygments_lexer": "ipython3",
   "version": "3.6.5"
  }
 },
 "nbformat": 4,
 "nbformat_minor": 2
}
